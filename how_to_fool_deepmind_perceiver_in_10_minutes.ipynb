{
 "cells": [
  {
   "cell_type": "markdown",
   "id": "373ae0d1",
   "metadata": {},
   "source": [
    "# How to fool DeepMind Perceiver in 10 minutes with adversarial examples\n",
    "\n",
    "\n",
    "👉🏽 [DeepMind Perceiver](https://www.deepmind.com/blog/building-architectures-that-can-handle-the-worlds-data) was released in 2021. It's a transformer-based model that can handle data from arbitrary settings, including images, videos, text, or audio. This model is one solid step toward truly general architectures, as opposed to task-specific, that can process arbitrary sequences of inputs and outputs.\n",
    "\n",
    "👉🏽 In this notebook, we will generate and adversarial example that manages to fool this model.\n",
    "\n",
    "👉🏽 We will use the implementation of the Perceiver available in [HuggingFace](https://huggingface.co/deepmind/vision-perceiver-learned#how-to-use) model repository."
   ]
  },
  {
   "cell_type": "markdown",
   "id": "c31442c0",
   "metadata": {},
   "source": [
    "<a href=\"https://colab.research.google.com/github/Paulescu/fooling_deepmind/blob/main/how_to_fool_deepmind_perceiver_in_10_minutes.ipynb\"><img src=\"https://colab.research.google.com/assets/colab-badge.svg\" width=\"200\"></a>"
   ]
  },
  {
   "cell_type": "code",
   "execution_count": null,
   "id": "02a7509c",
   "metadata": {
    "scrolled": true
   },
   "outputs": [
    {
     "name": "stdout",
     "output_type": "stream",
     "text": [
      "Requirement already satisfied: transformers in ./.venv/lib/python3.8/site-packages (4.19.4)\n",
      "Requirement already satisfied: cleverhans in ./.venv/lib/python3.8/site-packages (4.0.0)\n",
      "Requirement already satisfied: torch in ./.venv/lib/python3.8/site-packages (1.11.0)\n",
      "Requirement already satisfied: tqdm>=4.27 in ./.venv/lib/python3.8/site-packages (from transformers) (4.64.0)\n",
      "Requirement already satisfied: huggingface-hub<1.0,>=0.1.0 in ./.venv/lib/python3.8/site-packages (from transformers) (0.7.0)\n",
      "Requirement already satisfied: pyyaml>=5.1 in ./.venv/lib/python3.8/site-packages (from transformers) (6.0)\n",
      "Requirement already satisfied: packaging>=20.0 in ./.venv/lib/python3.8/site-packages (from transformers) (21.3)\n",
      "Requirement already satisfied: numpy>=1.17 in ./.venv/lib/python3.8/site-packages (from transformers) (1.22.4)\n",
      "Requirement already satisfied: filelock in ./.venv/lib/python3.8/site-packages (from transformers) (3.7.1)\n",
      "Requirement already satisfied: regex!=2019.12.17 in ./.venv/lib/python3.8/site-packages (from transformers) (2022.6.2)\n",
      "Requirement already satisfied: requests in ./.venv/lib/python3.8/site-packages (from transformers) (2.28.0)\n",
      "Requirement already satisfied: tokenizers!=0.11.3,<0.13,>=0.11.1 in ./.venv/lib/python3.8/site-packages (from transformers) (0.12.1)\n",
      "Requirement already satisfied: tensorflow-probability in ./.venv/lib/python3.8/site-packages (from cleverhans) (0.17.0)\n",
      "Requirement already satisfied: pycodestyle in ./.venv/lib/python3.8/site-packages (from cleverhans) (2.8.0)\n",
      "Requirement already satisfied: mnist in ./.venv/lib/python3.8/site-packages (from cleverhans) (0.2.2)\n",
      "Requirement already satisfied: six in ./.venv/lib/python3.8/site-packages (from cleverhans) (1.16.0)\n",
      "Requirement already satisfied: easydict in ./.venv/lib/python3.8/site-packages (from cleverhans) (1.9)\n",
      "Requirement already satisfied: nose in ./.venv/lib/python3.8/site-packages (from cleverhans) (1.3.7)\n",
      "Requirement already satisfied: absl-py in ./.venv/lib/python3.8/site-packages (from cleverhans) (1.1.0)\n",
      "Requirement already satisfied: scipy in ./.venv/lib/python3.8/site-packages (from cleverhans) (1.6.1)\n",
      "Requirement already satisfied: matplotlib in ./.venv/lib/python3.8/site-packages (from cleverhans) (3.5.2)\n",
      "Requirement already satisfied: joblib in ./.venv/lib/python3.8/site-packages (from cleverhans) (1.1.0)\n",
      "Requirement already satisfied: typing-extensions in ./.venv/lib/python3.8/site-packages (from torch) (4.2.0)\n",
      "Requirement already satisfied: pyparsing!=3.0.5,>=2.0.2 in ./.venv/lib/python3.8/site-packages (from packaging>=20.0->transformers) (3.0.9)\n",
      "Requirement already satisfied: kiwisolver>=1.0.1 in ./.venv/lib/python3.8/site-packages (from matplotlib->cleverhans) (1.4.3)\n",
      "Requirement already satisfied: fonttools>=4.22.0 in ./.venv/lib/python3.8/site-packages (from matplotlib->cleverhans) (4.33.3)\n",
      "Requirement already satisfied: pillow>=6.2.0 in ./.venv/lib/python3.8/site-packages (from matplotlib->cleverhans) (9.1.1)\n",
      "Requirement already satisfied: cycler>=0.10 in ./.venv/lib/python3.8/site-packages (from matplotlib->cleverhans) (0.11.0)\n",
      "Requirement already satisfied: python-dateutil>=2.7 in ./.venv/lib/python3.8/site-packages (from matplotlib->cleverhans) (2.8.2)\n",
      "Requirement already satisfied: charset-normalizer~=2.0.0 in ./.venv/lib/python3.8/site-packages (from requests->transformers) (2.0.12)\n",
      "Requirement already satisfied: urllib3<1.27,>=1.21.1 in ./.venv/lib/python3.8/site-packages (from requests->transformers) (1.26.9)\n",
      "Requirement already satisfied: idna<4,>=2.5 in ./.venv/lib/python3.8/site-packages (from requests->transformers) (3.3)\n",
      "Requirement already satisfied: certifi>=2017.4.17 in ./.venv/lib/python3.8/site-packages (from requests->transformers) (2022.6.15)\n",
      "Requirement already satisfied: decorator in ./.venv/lib/python3.8/site-packages (from tensorflow-probability->cleverhans) (5.1.1)\n",
      "Requirement already satisfied: cloudpickle>=1.3 in ./.venv/lib/python3.8/site-packages (from tensorflow-probability->cleverhans) (2.1.0)\n",
      "Requirement already satisfied: dm-tree in ./.venv/lib/python3.8/site-packages (from tensorflow-probability->cleverhans) (0.1.7)\n",
      "Requirement already satisfied: gast>=0.3.2 in ./.venv/lib/python3.8/site-packages (from tensorflow-probability->cleverhans) (0.5.3)\n"
     ]
    }
   ],
   "source": [
    "!pip install transformers cleverhans torch"
   ]
  },
  {
   "cell_type": "markdown",
   "id": "213f99e9",
   "metadata": {},
   "source": [
    "## Load the `PerceiverIO` model"
   ]
  },
  {
   "cell_type": "markdown",
   "id": "6d6969b3",
   "metadata": {},
   "source": [
    "![](images/pipeline.png)"
   ]
  },
  {
   "cell_type": "code",
   "execution_count": null,
   "id": "3086b7ef",
   "metadata": {},
   "outputs": [],
   "source": [
    "from transformers import PerceiverFeatureExtractor, PerceiverForImageClassificationLearned\n",
    "\n",
    "feature_extractor = PerceiverFeatureExtractor.from_pretrained(\"deepmind/vision-perceiver-learned\")\n",
    "model = PerceiverForImageClassificationLearned.from_pretrained(\"deepmind/vision-perceiver-learned\")\n",
    "\n",
    "n_params = sum(p.numel() for p in model.parameters())\n",
    "print(f'Number of parameters: {n_params:,}')"
   ]
  },
  {
   "cell_type": "markdown",
   "id": "38c57bcf",
   "metadata": {},
   "source": [
    "![](../images/pipeline.png)"
   ]
  },
  {
   "cell_type": "markdown",
   "id": "0f43fc62",
   "metadata": {},
   "source": [
    "## [Example on HuggingFace's space](https://huggingface.co/deepmind/vision-perceiver-learned#how-to-use)"
   ]
  },
  {
   "cell_type": "code",
   "execution_count": null,
   "id": "f747bb0e",
   "metadata": {},
   "outputs": [],
   "source": [
    "import requests\n",
    "from PIL import Image\n",
    "\n",
    "url = \"http://images.cocodataset.org/val2017/000000039769.jpg\"\n",
    "image = Image.open(requests.get(url, stream=True).raw)\n",
    "\n",
    "# prepare input\n",
    "encoding = feature_extractor(image, return_tensors=\"pt\")\n",
    "inputs = encoding.pixel_values\n",
    "\n",
    "# forward pass\n",
    "outputs = model(inputs)\n",
    "logits = outputs.logits\n",
    "print(\"Predicted class:\", model.config.id2label[logits.argmax(-1).item()])\n",
    "image"
   ]
  },
  {
   "cell_type": "markdown",
   "id": "9c814711",
   "metadata": {},
   "source": [
    "### Pre-processing and model inference in one function call"
   ]
  },
  {
   "cell_type": "code",
   "execution_count": null,
   "id": "a40cbb45",
   "metadata": {},
   "outputs": [],
   "source": [
    "def image2class(image):\n",
    "    \"\"\"\n",
    "    Convenient function to package pre-processsing\n",
    "    and model inference in one function\n",
    "    \"\"\"\n",
    "    # image pixels into normalize values\n",
    "    encoding = feature_extractor(image, return_tensors=\"pt\")\n",
    "\n",
    "    # forward pass\n",
    "    outputs = model(encoding.pixel_values)\n",
    "    logits = outputs.logits\n",
    "    return model.config.id2label[logits.argmax(-1).item()]"
   ]
  },
  {
   "cell_type": "markdown",
   "id": "9c9039da",
   "metadata": {},
   "source": [
    "### Auxilliary function `inverse_feature_extractor` to reverse the `feature_extractor` step"
   ]
  },
  {
   "cell_type": "markdown",
   "id": "741b7b26",
   "metadata": {},
   "source": [
    "![](../images/pipeline2.png)"
   ]
  },
  {
   "cell_type": "markdown",
   "id": "e6fc7874",
   "metadata": {},
   "source": [
    "![](images/pipeline2.png)"
   ]
  },
  {
   "cell_type": "code",
   "execution_count": null,
   "id": "e2014baf",
   "metadata": {},
   "outputs": [],
   "source": [
    "import torch\n",
    "from torch import Tensor\n",
    "from torchvision import transforms\n",
    "\n",
    "def inverse_feature_extractor(x: Tensor):\n",
    "    \"\"\"\"\"\"\n",
    "    t = x.squeeze(0)\n",
    "\n",
    "    mean = [0.485, 0.456, 0.406]\n",
    "    std = [0.229, 0.224, 0.225]\n",
    "    t = t.mul(torch.FloatTensor(std).view(3,1,1)).add(torch.FloatTensor(mean).view(3,1,1)) #.numpy()\n",
    "\n",
    "    im = transforms.ToPILImage()(t)\n",
    "\n",
    "    return im\n",
    "\n",
    "inverse_feature_extractor(encoding.pixel_values)"
   ]
  },
  {
   "cell_type": "markdown",
   "id": "7e19d6ef",
   "metadata": {},
   "source": [
    "## Let's break the Perceiver with an adversarial example\n",
    "\n",
    "We use one of the simplest and fastest methods to generate adversarial examples: the fast gradient sign method.\n",
    "\n",
    "If you wanna get into the details on how it works, read my full article here\n",
    "http://datamachines.xyz/2021/07/05/adversarial-examples-to-break-deep-learning-models/"
   ]
  },
  {
   "cell_type": "code",
   "execution_count": null,
   "id": "0001fa22",
   "metadata": {},
   "outputs": [],
   "source": [
    "import numpy as np\n",
    "\n",
    "from cleverhans.torch.attacks.fast_gradient_method import fast_gradient_method\n",
    "\n",
    "eps = 0.1\n",
    "\n",
    "# load image\n",
    "url = \"http://images.cocodataset.org/val2017/000000039769.jpg\"\n",
    "image = Image.open(requests.get(url, stream=True).raw)\n",
    "x = feature_extractor(image, return_tensors=\"pt\").pixel_values\n",
    "\n",
    "# fast gradient sign method\n",
    "x_fgm = fast_gradient_method(\n",
    "    lambda x: model(x).logits, # maps normalized image to model logits\n",
    "    x, # original image we want to modify\n",
    "    eps, # max size of the perturbation\n",
    "    np.inf #l-infinite distance to measure the perturbation\n",
    ")\n",
    "\n",
    "# print results\n",
    "new_image = inverse_feature_extractor(x_fgm)\n",
    "print('Predicted class: ', image2class(new_image))\n",
    "new_image"
   ]
  },
  {
   "cell_type": "code",
   "execution_count": null,
   "id": "6c7f2e1e",
   "metadata": {},
   "outputs": [],
   "source": []
  }
 ],
 "metadata": {
  "kernelspec": {
   "display_name": "Python 3 (ipykernel)",
   "language": "python",
   "name": "python3"
  },
  "language_info": {
   "codemirror_mode": {
    "name": "ipython",
    "version": 3
   },
   "file_extension": ".py",
   "mimetype": "text/x-python",
   "name": "python",
   "nbconvert_exporter": "python",
   "pygments_lexer": "ipython3",
   "version": "3.8.10"
  }
 },
 "nbformat": 4,
 "nbformat_minor": 5
}
